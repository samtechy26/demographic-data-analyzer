{
 "cells": [
  {
   "cell_type": "code",
   "execution_count": 2,
   "id": "efb9a2e6-2da6-4cc2-98e0-7e4d2973e59c",
   "metadata": {},
   "outputs": [],
   "source": [
    "import pandas as pd"
   ]
  },
  {
   "cell_type": "code",
   "execution_count": 181,
   "id": "943c7d16-06cf-4e60-bd5c-1fb2b6729766",
   "metadata": {},
   "outputs": [],
   "source": [
    "df = pd.read_csv('adult.data.csv') # Read the csv"
   ]
  },
  {
   "cell_type": "code",
   "execution_count": 182,
   "id": "30aaa9eb-4e4b-41c0-8cd6-8db3bde687c8",
   "metadata": {},
   "outputs": [
    {
     "data": {
      "text/html": [
       "<div>\n",
       "<style scoped>\n",
       "    .dataframe tbody tr th:only-of-type {\n",
       "        vertical-align: middle;\n",
       "    }\n",
       "\n",
       "    .dataframe tbody tr th {\n",
       "        vertical-align: top;\n",
       "    }\n",
       "\n",
       "    .dataframe thead th {\n",
       "        text-align: right;\n",
       "    }\n",
       "</style>\n",
       "<table border=\"1\" class=\"dataframe\">\n",
       "  <thead>\n",
       "    <tr style=\"text-align: right;\">\n",
       "      <th></th>\n",
       "      <th>age</th>\n",
       "      <th>workclass</th>\n",
       "      <th>fnlwgt</th>\n",
       "      <th>education</th>\n",
       "      <th>education-num</th>\n",
       "      <th>marital-status</th>\n",
       "      <th>occupation</th>\n",
       "      <th>relationship</th>\n",
       "      <th>race</th>\n",
       "      <th>sex</th>\n",
       "      <th>capital-gain</th>\n",
       "      <th>capital-loss</th>\n",
       "      <th>hours-per-week</th>\n",
       "      <th>native-country</th>\n",
       "      <th>salary</th>\n",
       "    </tr>\n",
       "  </thead>\n",
       "  <tbody>\n",
       "    <tr>\n",
       "      <th>0</th>\n",
       "      <td>39</td>\n",
       "      <td>State-gov</td>\n",
       "      <td>77516</td>\n",
       "      <td>Bachelors</td>\n",
       "      <td>13</td>\n",
       "      <td>Never-married</td>\n",
       "      <td>Adm-clerical</td>\n",
       "      <td>Not-in-family</td>\n",
       "      <td>White</td>\n",
       "      <td>Male</td>\n",
       "      <td>2174</td>\n",
       "      <td>0</td>\n",
       "      <td>40</td>\n",
       "      <td>United-States</td>\n",
       "      <td>&lt;=50K</td>\n",
       "    </tr>\n",
       "    <tr>\n",
       "      <th>1</th>\n",
       "      <td>50</td>\n",
       "      <td>Self-emp-not-inc</td>\n",
       "      <td>83311</td>\n",
       "      <td>Bachelors</td>\n",
       "      <td>13</td>\n",
       "      <td>Married-civ-spouse</td>\n",
       "      <td>Exec-managerial</td>\n",
       "      <td>Husband</td>\n",
       "      <td>White</td>\n",
       "      <td>Male</td>\n",
       "      <td>0</td>\n",
       "      <td>0</td>\n",
       "      <td>13</td>\n",
       "      <td>United-States</td>\n",
       "      <td>&lt;=50K</td>\n",
       "    </tr>\n",
       "    <tr>\n",
       "      <th>2</th>\n",
       "      <td>38</td>\n",
       "      <td>Private</td>\n",
       "      <td>215646</td>\n",
       "      <td>HS-grad</td>\n",
       "      <td>9</td>\n",
       "      <td>Divorced</td>\n",
       "      <td>Handlers-cleaners</td>\n",
       "      <td>Not-in-family</td>\n",
       "      <td>White</td>\n",
       "      <td>Male</td>\n",
       "      <td>0</td>\n",
       "      <td>0</td>\n",
       "      <td>40</td>\n",
       "      <td>United-States</td>\n",
       "      <td>&lt;=50K</td>\n",
       "    </tr>\n",
       "    <tr>\n",
       "      <th>3</th>\n",
       "      <td>53</td>\n",
       "      <td>Private</td>\n",
       "      <td>234721</td>\n",
       "      <td>11th</td>\n",
       "      <td>7</td>\n",
       "      <td>Married-civ-spouse</td>\n",
       "      <td>Handlers-cleaners</td>\n",
       "      <td>Husband</td>\n",
       "      <td>Black</td>\n",
       "      <td>Male</td>\n",
       "      <td>0</td>\n",
       "      <td>0</td>\n",
       "      <td>40</td>\n",
       "      <td>United-States</td>\n",
       "      <td>&lt;=50K</td>\n",
       "    </tr>\n",
       "    <tr>\n",
       "      <th>4</th>\n",
       "      <td>28</td>\n",
       "      <td>Private</td>\n",
       "      <td>338409</td>\n",
       "      <td>Bachelors</td>\n",
       "      <td>13</td>\n",
       "      <td>Married-civ-spouse</td>\n",
       "      <td>Prof-specialty</td>\n",
       "      <td>Wife</td>\n",
       "      <td>Black</td>\n",
       "      <td>Female</td>\n",
       "      <td>0</td>\n",
       "      <td>0</td>\n",
       "      <td>40</td>\n",
       "      <td>Cuba</td>\n",
       "      <td>&lt;=50K</td>\n",
       "    </tr>\n",
       "  </tbody>\n",
       "</table>\n",
       "</div>"
      ],
      "text/plain": [
       "   age         workclass  fnlwgt  education  education-num  \\\n",
       "0   39         State-gov   77516  Bachelors             13   \n",
       "1   50  Self-emp-not-inc   83311  Bachelors             13   \n",
       "2   38           Private  215646    HS-grad              9   \n",
       "3   53           Private  234721       11th              7   \n",
       "4   28           Private  338409  Bachelors             13   \n",
       "\n",
       "       marital-status         occupation   relationship   race     sex  \\\n",
       "0       Never-married       Adm-clerical  Not-in-family  White    Male   \n",
       "1  Married-civ-spouse    Exec-managerial        Husband  White    Male   \n",
       "2            Divorced  Handlers-cleaners  Not-in-family  White    Male   \n",
       "3  Married-civ-spouse  Handlers-cleaners        Husband  Black    Male   \n",
       "4  Married-civ-spouse     Prof-specialty           Wife  Black  Female   \n",
       "\n",
       "   capital-gain  capital-loss  hours-per-week native-country salary  \n",
       "0          2174             0              40  United-States  <=50K  \n",
       "1             0             0              13  United-States  <=50K  \n",
       "2             0             0              40  United-States  <=50K  \n",
       "3             0             0              40  United-States  <=50K  \n",
       "4             0             0              40           Cuba  <=50K  "
      ]
     },
     "execution_count": 182,
     "metadata": {},
     "output_type": "execute_result"
    }
   ],
   "source": [
    "df.head()"
   ]
  },
  {
   "cell_type": "code",
   "execution_count": 183,
   "id": "a3cb3da4-c42f-40e8-b136-cfc92592bf0c",
   "metadata": {},
   "outputs": [
    {
     "data": {
      "text/plain": [
       "count     32561\n",
       "unique        5\n",
       "top       White\n",
       "freq      27816\n",
       "Name: race, dtype: object"
      ]
     },
     "execution_count": 183,
     "metadata": {},
     "output_type": "execute_result"
    }
   ],
   "source": [
    "df['race'].describe() # get a feel of the data"
   ]
  },
  {
   "cell_type": "code",
   "execution_count": 9,
   "id": "9a397076-d57e-4c10-9a42-7819796d361b",
   "metadata": {},
   "outputs": [
    {
     "data": {
      "text/plain": [
       "array(['White', 'Black', 'Asian-Pac-Islander', 'Amer-Indian-Eskimo',\n",
       "       'Other'], dtype=object)"
      ]
     },
     "execution_count": 9,
     "metadata": {},
     "output_type": "execute_result"
    }
   ],
   "source": [
    "df['race'].unique() # get unique field names of race"
   ]
  },
  {
   "cell_type": "markdown",
   "id": "d31e7721-15fc-4b6c-8708-765874b94050",
   "metadata": {},
   "source": [
    "#### Find the total number of each race"
   ]
  },
  {
   "cell_type": "code",
   "execution_count": 10,
   "id": "d39a0a21-734d-4512-b111-51da168b41a8",
   "metadata": {},
   "outputs": [
    {
     "data": {
      "text/plain": [
       "race\n",
       "White                 27816\n",
       "Black                  3124\n",
       "Asian-Pac-Islander     1039\n",
       "Amer-Indian-Eskimo      311\n",
       "Other                   271\n",
       "Name: count, dtype: int64"
      ]
     },
     "execution_count": 10,
     "metadata": {},
     "output_type": "execute_result"
    }
   ],
   "source": [
    "df['race'].value_counts()"
   ]
  },
  {
   "cell_type": "markdown",
   "id": "69011142-a240-4ac5-8994-23172e79b9f1",
   "metadata": {},
   "source": [
    "#### What is the average age of men"
   ]
  },
  {
   "cell_type": "code",
   "execution_count": 14,
   "id": "675cf3d6-8827-40c1-99ce-12d5bc5875e2",
   "metadata": {},
   "outputs": [
    {
     "data": {
      "text/plain": [
       "39"
      ]
     },
     "execution_count": 14,
     "metadata": {},
     "output_type": "execute_result"
    }
   ],
   "source": [
    "males = df.loc[df['sex'] == 'Male']\n",
    "int(males['age'].mean())"
   ]
  },
  {
   "cell_type": "markdown",
   "id": "15a102a4-772d-4c0b-b25d-6154236cf90f",
   "metadata": {},
   "source": [
    "#### What is the percentage of people who have a barchelors degree"
   ]
  },
  {
   "cell_type": "code",
   "execution_count": 23,
   "id": "e3c69fe9-28b6-4e25-833a-ff9c8721adb9",
   "metadata": {},
   "outputs": [],
   "source": [
    "total_rows = len(df)"
   ]
  },
  {
   "cell_type": "code",
   "execution_count": 24,
   "id": "6f556106-3409-4655-9432-fbfa3dccab9d",
   "metadata": {},
   "outputs": [],
   "source": [
    "total_bachelors_degree = len(df.loc[df['education'] == 'Bachelors'])"
   ]
  },
  {
   "cell_type": "code",
   "execution_count": 25,
   "id": "59c80c10-2a8d-4afe-9c44-81b175d69e53",
   "metadata": {},
   "outputs": [],
   "source": [
    "percentage = (total_bachelors_degree / total_rows) * 100"
   ]
  },
  {
   "cell_type": "code",
   "execution_count": 26,
   "id": "0544eab1-330c-4283-858d-ccbaa95e6716",
   "metadata": {},
   "outputs": [
    {
     "data": {
      "text/plain": [
       "16.44605509658794"
      ]
     },
     "execution_count": 26,
     "metadata": {},
     "output_type": "execute_result"
    }
   ],
   "source": [
    "percentage"
   ]
  },
  {
   "cell_type": "markdown",
   "id": "8a223b3f-417a-48dc-8783-7903ba818d21",
   "metadata": {},
   "source": [
    "#### What percentage of people with advanced education (Bachelors, Masters, or Doctorate) make more than 50K?"
   ]
  },
  {
   "cell_type": "code",
   "execution_count": 184,
   "id": "f693a176-dca7-4150-9b47-63ddf0514d87",
   "metadata": {},
   "outputs": [],
   "source": [
    "ls = ['Bachelors', 'Masters', 'Doctorate']\n",
    "df2 = df.query('education in @ls')"
   ]
  },
  {
   "cell_type": "code",
   "execution_count": 43,
   "id": "2ce6d7f9-3c61-4b82-8396-844baaba9239",
   "metadata": {},
   "outputs": [],
   "source": [
    "t_educated = len(df2.loc[df2['salary'] == '>50K'])"
   ]
  },
  {
   "cell_type": "code",
   "execution_count": 186,
   "id": "c56e8beb-22c1-4841-8466-352b63a7b8a2",
   "metadata": {},
   "outputs": [],
   "source": [
    "percentage_educated_with_pay = (t_educated / len(df2)) * 100"
   ]
  },
  {
   "cell_type": "code",
   "execution_count": 187,
   "id": "8c478505-81b3-4d9f-8823-83f384cfec77",
   "metadata": {},
   "outputs": [
    {
     "data": {
      "text/plain": [
       "46.535843011613935"
      ]
     },
     "execution_count": 187,
     "metadata": {},
     "output_type": "execute_result"
    }
   ],
   "source": [
    "percentage_educated_with_pay"
   ]
  },
  {
   "cell_type": "markdown",
   "id": "2fca8e47-5b35-417a-9053-162ca58d484e",
   "metadata": {},
   "source": [
    "#### What percentage of people without advanced education make more than 50K?"
   ]
  },
  {
   "cell_type": "code",
   "execution_count": 188,
   "id": "d2101519-4f13-44e2-8a8f-51dede4e6f8e",
   "metadata": {},
   "outputs": [],
   "source": [
    "df3 = df.query('education not in @ls')\n",
    "lower_education = df3.loc[df3['salary'] == '>50K']"
   ]
  },
  {
   "cell_type": "code",
   "execution_count": 190,
   "id": "31416bf6-912f-46cc-8ec4-d422f6a0385c",
   "metadata": {},
   "outputs": [],
   "source": [
    "percentage_uneducated_with_pay = (len(lower_education) / len(df3)) * 100"
   ]
  },
  {
   "cell_type": "code",
   "execution_count": 191,
   "id": "d03cdf5c-3c60-468f-bf0a-1177a3a2f3a7",
   "metadata": {},
   "outputs": [
    {
     "data": {
      "text/plain": [
       "17.3713601914639"
      ]
     },
     "execution_count": 191,
     "metadata": {},
     "output_type": "execute_result"
    }
   ],
   "source": [
    "percentage_uneducated_with_pay"
   ]
  },
  {
   "cell_type": "markdown",
   "id": "567490cf-8493-4659-85eb-f75cb22142be",
   "metadata": {},
   "source": [
    "#### What is the minimum number of hours a person works per week?"
   ]
  },
  {
   "cell_type": "code",
   "execution_count": 56,
   "id": "a231334c-7cc7-4a7c-8533-bdd351160943",
   "metadata": {},
   "outputs": [
    {
     "data": {
      "text/plain": [
       "1"
      ]
     },
     "execution_count": 56,
     "metadata": {},
     "output_type": "execute_result"
    }
   ],
   "source": [
    "df['hours-per-week'].min()"
   ]
  },
  {
   "cell_type": "markdown",
   "id": "784208c6-05b5-4773-b15b-cf7870733b54",
   "metadata": {},
   "source": [
    "#### What percentage of the people who work the minimum number of hours per week have a salary of more than 50K?"
   ]
  },
  {
   "cell_type": "code",
   "execution_count": 129,
   "id": "8f03987b-fbf8-4d50-abec-6a3726a076d7",
   "metadata": {},
   "outputs": [
    {
     "data": {
      "text/plain": [
       "10.0"
      ]
     },
     "execution_count": 129,
     "metadata": {},
     "output_type": "execute_result"
    }
   ],
   "source": [
    "eval = df.loc[df['hours-per-week'] == 1]\n",
    "eval2 = df.loc[(df['hours-per-week'] == 1) & (df['salary'] == '>50K')]\n",
    "\n",
    "len(eval)\n",
    "len(eval2)\n",
    "(len(eval2)/len(eval)) * 100\n"
   ]
  },
  {
   "cell_type": "markdown",
   "id": "30d626b7-5f25-4213-8bbd-a6581419617f",
   "metadata": {},
   "source": [
    "#### What country has the highest percentage of people that earn >50K and what is that percentage?"
   ]
  },
  {
   "cell_type": "code",
   "execution_count": 192,
   "id": "21e10ec9-e35b-4d46-8bc1-f54525d49966",
   "metadata": {},
   "outputs": [],
   "source": [
    "per_country = df.loc[df['salary'] == '>50K']"
   ]
  },
  {
   "cell_type": "code",
   "execution_count": 72,
   "id": "e847e2c6-17a6-48e4-bc83-7a5b9d097e0c",
   "metadata": {},
   "outputs": [],
   "source": [
    "per_country = per_country['native-country']"
   ]
  },
  {
   "cell_type": "code",
   "execution_count": 193,
   "id": "b9c0b802-c0e2-4803-95a9-f177a6c0b982",
   "metadata": {},
   "outputs": [],
   "source": [
    "per_country_above50k = per_country.value_counts()"
   ]
  },
  {
   "cell_type": "code",
   "execution_count": 146,
   "id": "66dc5e70-2547-4aac-bb4b-2fde7097a027",
   "metadata": {},
   "outputs": [],
   "source": [
    "c_count = (df['native-country']).value_counts()\n",
    "t_list = [c_count, per_country_above50k]"
   ]
  },
  {
   "cell_type": "code",
   "execution_count": 194,
   "id": "71590254-79a0-4cfd-844a-ddfdbea719af",
   "metadata": {},
   "outputs": [
    {
     "data": {
      "text/plain": [
       "'Iran'"
      ]
     },
     "execution_count": 194,
     "metadata": {},
     "output_type": "execute_result"
    }
   ],
   "source": [
    "tester = pd.DataFrame(t_list)\n",
    "tester = tester.T\n",
    "tester.columns = ['total-count', 'rich-count']\n",
    "tester['percentage-rich'] = (tester['rich-count'] / tester['total-count']) * 100\n",
    "maximum = (tester['percentage-rich']).max()\n",
    "h_country = (tester['percentage-rich']).idxmax()\n",
    "h_country\n"
   ]
  },
  {
   "cell_type": "markdown",
   "id": "610b11c5-afc4-4467-b0c9-526913881153",
   "metadata": {},
   "source": [
    "#### Identify the most popular occupation for those who earn >50K in India."
   ]
  },
  {
   "cell_type": "code",
   "execution_count": 114,
   "id": "0c9cd5bb-4614-415e-9ab7-81967436b22b",
   "metadata": {},
   "outputs": [],
   "source": [
    "ind = df.loc[(df['native-country']=='India') & (df['salary'] == '>50K')]\n",
    "ind_occupations = ind['occupation'].value_counts()\n",
    "pop_occc = ind_occupations.max()\n",
    "df5 = ind_occupations.loc[ind_occupations == pop_occc]"
   ]
  },
  {
   "cell_type": "code",
   "execution_count": 116,
   "id": "1b01df9e-127b-4448-8d88-f1f3baab232a",
   "metadata": {},
   "outputs": [
    {
     "data": {
      "text/plain": [
       "'Prof-specialty'"
      ]
     },
     "execution_count": 116,
     "metadata": {},
     "output_type": "execute_result"
    }
   ],
   "source": [
    "df5.idxmax()"
   ]
  },
  {
   "cell_type": "code",
   "execution_count": null,
   "id": "f1c089dc-fddc-4806-98ef-9c7f9c95b19c",
   "metadata": {},
   "outputs": [],
   "source": []
  }
 ],
 "metadata": {
  "kernelspec": {
   "display_name": "Python 3 (ipykernel)",
   "language": "python",
   "name": "python3"
  },
  "language_info": {
   "codemirror_mode": {
    "name": "ipython",
    "version": 3
   },
   "file_extension": ".py",
   "mimetype": "text/x-python",
   "name": "python",
   "nbconvert_exporter": "python",
   "pygments_lexer": "ipython3",
   "version": "3.11.5"
  }
 },
 "nbformat": 4,
 "nbformat_minor": 5
}
